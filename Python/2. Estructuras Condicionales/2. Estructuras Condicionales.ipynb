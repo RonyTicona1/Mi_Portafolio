{
 "cells": [
  {
   "cell_type": "markdown",
   "id": "2e24d7b3",
   "metadata": {},
   "source": [
    "<center> <h1>Universidad Nacional de San Agustín de Arequipa</h1> </center>\n",
    "<center> <h1>Escuela Profesional de Ingeniería de Telecomunicaciones</h1> </center>"
   ]
  },
  {
   "cell_type": "markdown",
   "id": "eb8b8d3e",
   "metadata": {},
   "source": [
    "![](https://live.staticflickr.com/3237/2298687478_0ecc6fb58b_z.jpg)"
   ]
  },
  {
   "cell_type": "markdown",
   "id": "7a6d9b4e",
   "metadata": {},
   "source": [
    "<center> <h1>Ingeniero Renzo Bolivar - Docente DAIE </h1> </center>\n",
    "<center> <h1>Estudiante: Rony Ticona</h1> </center>"
   ]
  },
  {
   "attachments": {
    "linea%20naranja.png": {
     "image/png": "[encoded data removed]"
    }
   },
   "cell_type": "markdown",
   "id": "3d5ec9d4",
   "metadata": {},
   "source": [
    "![linea%20naranja.png](attachment:linea%20naranja.png)"
   ]
  },
  {
   "attachments": {},
   "cell_type": "markdown",
   "id": "c2dd96c6",
   "metadata": {},
   "source": [
    "<center> <h1>PYTHON</h1> </center>\n",
    "<center> <h1>Estructuras Condicionales</h1> </center>"
   ]
  },
  {
   "cell_type": "markdown",
   "id": "504a6552",
   "metadata": {},
   "source": [
    "![](https://sindicatoaudiovisual.com/wp-content/uploads/2016/05/linea-roja-titulo.png)"
   ]
  },
  {
   "cell_type": "markdown",
   "id": "8fe97764",
   "metadata": {},
   "source": [
    "# <font color='blue'>**1. Introducción a Listas**</font>"
   ]
  },
  {
   "cell_type": "code",
   "execution_count": 10,
   "id": "45d8e990",
   "metadata": {},
   "outputs": [
    {
     "name": "stdout",
     "output_type": "stream",
     "text": [
      "La frase inicia con la letra: S\n",
      "La frase termina con la letra: n\n"
     ]
    }
   ],
   "source": [
    "cadena = \"Si quieres aprender, enseña. Marco Tulio Cicerón\"\n",
    "\n",
    "print(\"La frase inicia con la letra:\",cadena[0])\n",
    "\n",
    "print(\"La frase termina con la letra:\",cadena[-1])"
   ]
  },
  {
   "cell_type": "markdown",
   "id": "bbf53e17",
   "metadata": {},
   "source": [
    "**Divida una cadena en una lista donde cada palabra sea un elemento de la lista:**"
   ]
  },
  {
   "cell_type": "code",
   "execution_count": 11,
   "id": "88d4a189",
   "metadata": {},
   "outputs": [
    {
     "name": "stdout",
     "output_type": "stream",
     "text": [
      "['Si', 'quieres', 'aprender,', 'enseña.', 'Marco', 'Tulio', 'Cicerón']\n"
     ]
    }
   ],
   "source": [
    "lista_de_cadena = cadena.split()\n",
    "\n",
    "print(lista_de_cadena)"
   ]
  },
  {
   "cell_type": "markdown",
   "id": "e47ae123",
   "metadata": {},
   "source": [
    "**Los elementos de la lista pueden ser de cualquier tipo:**"
   ]
  },
  {
   "cell_type": "code",
   "execution_count": 15,
   "id": "592e1ffe",
   "metadata": {},
   "outputs": [
    {
     "name": "stdout",
     "output_type": "stream",
     "text": [
      "['Luis', 'Pablo', 'Mili', 'Gabriela', 'Oscar']\n"
     ]
    }
   ],
   "source": [
    "lista_de_nombres = ['Luis', 'Pablo', 'Mili', 'Gabriela', 'Oscar']\n",
    "\n",
    "print(lista_de_nombres)"
   ]
  },
  {
   "cell_type": "code",
   "execution_count": 16,
   "id": "99cbe4de",
   "metadata": {},
   "outputs": [
    {
     "name": "stdout",
     "output_type": "stream",
     "text": [
      "[20, 30, 40, 50, 60]\n",
      "20\n",
      "300\n",
      "40\n",
      "\n",
      "\n",
      "['Luis', 'Pablo', 'Mili', 'Gabriela', 'Oscar']\n",
      "Luis\n",
      "OSCAR\n",
      "Mili\n"
     ]
    }
   ],
   "source": [
    "lista_de_numeros = [20, 30, 40, 50, 60,]\n",
    "\n",
    "print(lista_de_numeros)\n",
    "\n",
    "#accediendo a los elementos de una lista\n",
    "\n",
    "print(lista_de_numeros[0])\n",
    "print(lista_de_numeros[-1]*5)\n",
    "print(lista_de_numeros[2])\n",
    "    print(\"\\nEl diámetro del Círculo es {0}.\".format(di))\n",
    "print('\\n')\n",
    "print(lista_de_nombres)\n",
    "print(lista_de_nombres[0].title())\n",
    "print(lista_de_nombres[-1].upper())\n",
    "print(lista_de_nombres[2])"
   ]
  },
  {
   "cell_type": "markdown",
   "id": "d35c028b",
   "metadata": {},
   "source": [
    "**Modificando elementos en una lista, porque la lista es mutable:**"
   ]
  },
  {
   "cell_type": "code",
   "execution_count": 18,
   "id": "3fbe809f",
   "metadata": {},
   "outputs": [
    {
     "name": "stdout",
     "output_type": "stream",
     "text": [
      "['iphone', 'sansung', 'huavei', 'motorola', 'xiaomi']\n",
      "['iphone', 'samsung', 'huawei', 'motorola', 'xiaomi']\n"
     ]
    }
   ],
   "source": [
    "celulares = ['iphone', 'sansung', 'huavei', 'motorola', 'xiaomi']\n",
    "print(celulares)\n",
    "\n",
    "celulares[1] = 'samsung'\n",
    "celulares[2] = 'huawei'\n",
    "\n",
    "print(celulares)"
   ]
  },
  {
   "cell_type": "markdown",
   "id": "ea4131f9",
   "metadata": {},
   "source": [
    "**Adicionando elementos a una lista:**"
   ]
  },
  {
   "cell_type": "code",
   "execution_count": 20,
   "id": "08029864",
   "metadata": {},
   "outputs": [
    {
     "name": "stdout",
     "output_type": "stream",
     "text": [
      "['iphone', 'samsung', 'huawei', ',motorola', 'xiaomi', 'lg']\n",
      "['iphone', 'samsung', 'huawei', ',motorola', 'xiaomi', 'lg', 'zte', 'logic']\n"
     ]
    }
   ],
   "source": [
    "celulares = ['iphone', 'samsung', 'huawei', ',motorola', 'xiaomi']\n",
    "celulares.append('lg')\n",
    "print(celulares)\n",
    "\n",
    "cel = ['zte', 'logic']\n",
    "cel2 = celulares + cel\n",
    "\n",
    "print(cel2)"
   ]
  },
  {
   "cell_type": "markdown",
   "id": "4d2a1a7b",
   "metadata": {},
   "source": [
    "**Borrando elementos de una lista:**"
   ]
  },
  {
   "cell_type": "code",
   "execution_count": 26,
   "id": "a0afd876",
   "metadata": {},
   "outputs": [
    {
     "name": "stdout",
     "output_type": "stream",
     "text": [
      "\n",
      "Lista Celulares Original\n",
      "['iphone', 'samsung', 'huawei', 'motorola', 'xiaomi', 'lg', 'zte', 'logic']\n",
      "\n",
      "Lista borrando el último celular\n",
      "['iphone', 'samsung', 'huawei', 'motorola', 'xiaomi', 'lg', 'zte']\n",
      "\n",
      "Lista borrando celular Nuevamente\n",
      "['iphone', 'samsung', 'huawei', 'motorola', 'lg', 'zte']\n",
      "\n",
      "Equipo Celular Borrado\n",
      "XIAOMI\n",
      "\n",
      "Lista borrando celular LG es muy malo para mí.\n"
     ]
    }
   ],
   "source": [
    "celulares = ['iphone', 'samsung', 'huawei', 'motorola', 'xiaomi', 'lg', 'zte', 'logic']\n",
    "print(\"\\nLista Celulares Original\")\n",
    "print(celulares)\n",
    "\n",
    "del celulares[-1]\n",
    "print(\"\\nLista borrando el último celular\")\n",
    "print(celulares)\n",
    "\n",
    "b_celular = celulares.pop(4)\n",
    "print(\"\\nLista borrando celular Nuevamente\")\n",
    "print(celulares)\n",
    "print(\"\\nEquipo Celular Borrado\")\n",
    "print(b_celular.upper())\n",
    "\n",
    "c_celular = 'lg'\n",
    "celulares.remove(c_celular)\n",
    "print(f\"\\nLista borrando celular {c_celular.upper()} es muy malo para mí.\")\n"
   ]
  },
  {
   "cell_type": "markdown",
   "id": "6101aa58",
   "metadata": {},
   "source": [
    "**Ordenamos una lista:**"
   ]
  },
  {
   "cell_type": "code",
   "execution_count": 28,
   "id": "d6e13191",
   "metadata": {},
   "outputs": [
    {
     "name": "stdout",
     "output_type": "stream",
     "text": [
      "\n",
      "Lista Original\n",
      "['mazda', 'audi', 'toyota', 'subaru', 'bmw', 'lamborghini']\n",
      "\n",
      "Lista Ordenada\n",
      "['audi', 'bmw', 'lamborghini', 'mazda', 'subaru', 'toyota']\n",
      "\n",
      "Lista ordenada a la inversa\n",
      "['toyota', 'subaru', 'mazda', 'lamborghini', 'bmw', 'audi']\n"
     ]
    }
   ],
   "source": [
    "autos = ['mazda', 'audi', 'toyota', 'subaru', 'bmw', 'lamborghini']\n",
    "print('\\nLista Original')\n",
    "print(autos)\n",
    "      \n",
    "print('\\nLista Ordenada')\n",
    "autos.sort()\n",
    "print(autos)\n",
    "      \n",
    "print('\\nLista ordenada a la inversa')\n",
    "autos.reverse()\n",
    "print(autos)\n",
    "      "
   ]
  },
  {
   "cell_type": "code",
   "execution_count": 29,
   "id": "8fb27b23",
   "metadata": {},
   "outputs": [
    {
     "name": "stdout",
     "output_type": "stream",
     "text": [
      "\n",
      "Lista Original\n",
      "[200, 600, 10, 2000, -5, 50, 110, 1500]\n",
      "\n",
      "Lista Ordenada Temporal\n",
      "[-5, 10, 50, 110, 200, 600, 1500, 2000]\n",
      "\n",
      "Lista Original de Nuevo\n",
      "[200, 600, 10, 2000, -5, 50, 110, 1500]\n"
     ]
    }
   ],
   "source": [
    "num = [200, 600, 10, 2000, -5, 50, 110, 1500]\n",
    "print('\\nLista Original')\n",
    "print(num)\n",
    "\n",
    "print('\\nLista Ordenada Temporal')\n",
    "print(sorted(num))\n",
    "\n",
    "print('\\nLista Original de Nuevo')\n",
    "print(num)"
   ]
  },
  {
   "cell_type": "markdown",
   "id": "99623e3a",
   "metadata": {},
   "source": [
    "**Longitud de una lista:**"
   ]
  },
  {
   "cell_type": "code",
   "execution_count": 30,
   "id": "1c679775",
   "metadata": {},
   "outputs": [
    {
     "name": "stdout",
     "output_type": "stream",
     "text": [
      "Cantidad de Autos\n",
      "6\n",
      "\n",
      "Cantidad de Numeros\n",
      "8\n"
     ]
    }
   ],
   "source": [
    "print('Cantidad de Autos')\n",
    "print(len(autos))\n",
    "\n",
    "print('\\nCantidad de Numeros')\n",
    "print(len(num))"
   ]
  },
  {
   "cell_type": "markdown",
   "id": "d12b60de",
   "metadata": {},
   "source": [
    "![](https://sindicatoaudiovisual.com/wp-content/uploads/2016/05/linea-roja-titulo.png)"
   ]
  },
  {
   "cell_type": "markdown",
   "id": "a503ba60",
   "metadata": {},
   "source": [
    "# <font color='blue'>**2. Estructuras Condicionales**</font>"
   ]
  },
  {
   "cell_type": "markdown",
   "id": "9e504323",
   "metadata": {},
   "source": [
    "## Condiciones Simples:"
   ]
  },
  {
   "cell_type": "code",
   "execution_count": 32,
   "id": "b5272ade",
   "metadata": {},
   "outputs": [
    {
     "name": "stdout",
     "output_type": "stream",
     "text": [
      "True\n",
      "False\n"
     ]
    }
   ],
   "source": [
    "x = 'Guido'\n",
    "print('i' in x)\n",
    "print('i' not in x)"
   ]
  },
  {
   "cell_type": "code",
   "execution_count": 33,
   "id": "3152ed7c",
   "metadata": {},
   "outputs": [
    {
     "name": "stdout",
     "output_type": "stream",
     "text": [
      "True\n"
     ]
    }
   ],
   "source": [
    "lista = ('uva', 'naranja', 'pera', 'manzana')\n",
    "print('uva' in lista)"
   ]
  },
  {
   "cell_type": "code",
   "execution_count": 34,
   "id": "fc82889a",
   "metadata": {},
   "outputs": [
    {
     "name": "stdout",
     "output_type": "stream",
     "text": [
      "100 es igual a 200  ====>>  False\n"
     ]
    }
   ],
   "source": [
    "x = 100\n",
    "y = 200\n",
    "\n",
    "print(x, 'es igual a',y,' ====>> ', x == y)"
   ]
  },
  {
   "cell_type": "code",
   "execution_count": 36,
   "id": "0b3f25a2",
   "metadata": {
    "scrolled": true
   },
   "outputs": [
    {
     "name": "stdout",
     "output_type": "stream",
     "text": [
      "1 < 7 =  True\n",
      "2 >= 9 =  False\n",
      "10 == 20 =  False\n",
      "escuela == casa =  False\n",
      "Python != Java =  True\n"
     ]
    }
   ],
   "source": [
    "print('1 < 7 = ', 1<7)\n",
    "print('2 >= 9 = ', 2>=9)\n",
    "print('10 == 20 = ', 10 == 20)\n",
    "print('escuela == casa = ', \"escuela\" == \"casa\")\n",
    "print('Python != Java = ', \"Python\" != \"Java\")"
   ]
  },
  {
   "cell_type": "markdown",
   "id": "1285830e",
   "metadata": {},
   "source": [
    "---"
   ]
  },
  {
   "cell_type": "markdown",
   "id": "13ad6ddc",
   "metadata": {},
   "source": [
    "### Comando if - Condicional Simple"
   ]
  },
  {
   "cell_type": "code",
   "execution_count": null,
   "id": "fd679deb",
   "metadata": {},
   "outputs": [],
   "source": [
    "#Ejecuta la(s) sentencia(s) solo \"Si\" la condición es verdad."
   ]
  },
  {
   "cell_type": "markdown",
   "id": "142851b6",
   "metadata": {},
   "source": [
    "### x = 20\n",
    "\n",
    "if x > 0:\n",
    "    print('EL numero',x,'es válido')\n",
    "    print('EL cuadrado del numero ',x,'es:', x*x)"
   ]
  },
  {
   "cell_type": "markdown",
   "id": "c9244f7b",
   "metadata": {},
   "source": [
    "------"
   ]
  },
  {
   "cell_type": "markdown",
   "id": "64271ead",
   "metadata": {},
   "source": [
    "### Comando if - else - Condicional"
   ]
  },
  {
   "cell_type": "code",
   "execution_count": 62,
   "id": "5c591ad7",
   "metadata": {},
   "outputs": [],
   "source": [
    "#Ejecuta la(s) sentencia(s) solo \"Si\" la condición es verdad; \"SiNo\" ejecuta sentencias despues de \"Else\"."
   ]
  },
  {
   "cell_type": "code",
   "execution_count": 44,
   "id": "df59c2a5",
   "metadata": {},
   "outputs": [
    {
     "name": "stdout",
     "output_type": "stream",
     "text": [
      "El numero MAYOR es: 20\n"
     ]
    }
   ],
   "source": [
    "n = 15\n",
    "m = 20\n",
    "\n",
    "if n>m:\n",
    "    print('El numero MAYOR es: '+str(n))\n",
    "else:\n",
    "    print('El numero MAYOR es: '+str(m))"
   ]
  },
  {
   "cell_type": "code",
   "execution_count": 46,
   "id": "58ee21c3",
   "metadata": {},
   "outputs": [
    {
     "name": "stdout",
     "output_type": "stream",
     "text": [
      "El numero MAYOR es: 45\n"
     ]
    }
   ],
   "source": [
    "n = 45\n",
    "m = 20\n",
    "\n",
    "if n>m:\n",
    "    print('El numero MAYOR es: '+str(n))\n",
    "else:\n",
    "    print('El numero MAYOR es: '+str(m))"
   ]
  },
  {
   "cell_type": "markdown",
   "id": "36365b18",
   "metadata": {},
   "source": [
    "------"
   ]
  },
  {
   "cell_type": "markdown",
   "id": "8fa9b1b6",
   "metadata": {},
   "source": [
    "### Comando if - else - Condicional anidado"
   ]
  },
  {
   "cell_type": "code",
   "execution_count": 48,
   "id": "2a86d3e0",
   "metadata": {},
   "outputs": [
    {
     "name": "stdout",
     "output_type": "stream",
     "text": [
      "Ingrese el primer número: 100\n",
      "Ingrese el segundo número: -10\n",
      "Ingrese el tercer número: 1\n",
      "El número MAYOR es: 100\n",
      "El número MAYOR es: 100\n"
     ]
    }
   ],
   "source": [
    "a = int(input('Ingrese el primer número: '))\n",
    "b = int(input('Ingrese el segundo número: '))\n",
    "c = int(input('Ingrese el tercer número: '))\n",
    "\n",
    "if a > b:\n",
    "    if a > c:\n",
    "        m = a\n",
    "    else:\n",
    "        m = c\n",
    "else:\n",
    "    if b > c:\n",
    "        m = b\n",
    "    else:\n",
    "        m = c\n",
    "        \n",
    "print(\"El número MAYOR es: \"+str(m))\n",
    "print(\"El número MAYOR es: {}\".format(m))"
   ]
  },
  {
   "cell_type": "code",
   "execution_count": 49,
   "id": "daf0f7d9",
   "metadata": {},
   "outputs": [
    {
     "name": "stdout",
     "output_type": "stream",
     "text": [
      "Ingrese el primer número: 20\n",
      "Ingrese el segundo número: 30\n",
      "Ingrese el tercer número: 40\n",
      "El número MAYOR es: 40\n",
      "El número MAYOR es: 40\n"
     ]
    }
   ],
   "source": [
    "a = int(input('Ingrese el primer número: '))\n",
    "b = int(input('Ingrese el segundo número: '))\n",
    "c = int(input('Ingrese el tercer número: '))\n",
    "\n",
    "if a > b:\n",
    "    if a > c:\n",
    "        m = a\n",
    "    else:\n",
    "        m = c\n",
    "else:\n",
    "    if b > c:\n",
    "        m = b\n",
    "    else:\n",
    "        m = c\n",
    "        \n",
    "print(\"El número MAYOR es: \"+str(m))\n",
    "print(\"El número MAYOR es: {}\".format(m))"
   ]
  },
  {
   "cell_type": "markdown",
   "id": "78afc882",
   "metadata": {},
   "source": [
    "---"
   ]
  },
  {
   "cell_type": "markdown",
   "id": "1457f877",
   "metadata": {},
   "source": [
    "### Comando if - elif - else - Condicional encadenado"
   ]
  },
  {
   "cell_type": "code",
   "execution_count": 63,
   "id": "a3259ab0",
   "metadata": {},
   "outputs": [
    {
     "name": "stdout",
     "output_type": "stream",
     "text": [
      "Ìngrese su Nombre: Rony\n",
      "Rony, contiene la vocal o.\n"
     ]
    }
   ],
   "source": [
    "nombre = input('Ìngrese su Nombre: ')\n",
    "\n",
    "if 'a' in nombre:\n",
    "    print(nombre.title() + ' contiene la vocal a')\n",
    "elif 'e' in nombre:\n",
    "    print(nombre.title() + ' contiene la vocal e')\n",
    "elif 'i' in nombre:\n",
    "    print(nombre.title() + ' contiene la vocal i')\n",
    "elif 'o' in nombre:\n",
    "    print(nombre.title() + ',' + ' contiene la vocal o.')\n",
    "elif 'u' in nombre:\n",
    "    print(nombre.title() + ' contiene la vocal u')\n",
    "else:\n",
    "    print('¡Que nombre tan extraño!')"
   ]
  },
  {
   "cell_type": "markdown",
   "id": "dee1ce6b",
   "metadata": {},
   "source": [
    "![](https://sindicatoaudiovisual.com/wp-content/uploads/2016/05/linea-roja-titulo.png)"
   ]
  },
  {
   "cell_type": "markdown",
   "id": "6f8030ad",
   "metadata": {},
   "source": [
    "# <font color = 'blue'>EJEMPLOS</font>"
   ]
  },
  {
   "cell_type": "markdown",
   "id": "5ac1399b",
   "metadata": {},
   "source": [
    "## Listas"
   ]
  },
  {
   "cell_type": "markdown",
   "id": "7fa230e3",
   "metadata": {},
   "source": [
    "### Operadores con varias listas:"
   ]
  },
  {
   "cell_type": "code",
   "execution_count": 3,
   "id": "323c2907",
   "metadata": {},
   "outputs": [
    {
     "name": "stdout",
     "output_type": "stream",
     "text": [
      "[10, 20, 30, 40, 50, 60]\n"
     ]
    }
   ],
   "source": [
    "lista1 = [10, 20, 30]\n",
    "lista2 = [40, 50, 60]\n",
    "\n",
    "print(lista1 + lista2)"
   ]
  },
  {
   "cell_type": "markdown",
   "id": "09f5a45b",
   "metadata": {},
   "source": [
    "### Mejorando la impresión de varias listas:"
   ]
  },
  {
   "cell_type": "code",
   "execution_count": 4,
   "id": "7583ba6b",
   "metadata": {},
   "outputs": [
    {
     "name": "stdout",
     "output_type": "stream",
     "text": [
      "Mi auto es: Mazda\n",
      "Mi auto Toyota tiene 2 puertas\n"
     ]
    }
   ],
   "source": [
    "listaA = ['audi','toyota','mazda']\n",
    "puerta = [2,4]\n",
    "\n",
    "print(\"Mi auto es: \" + listaA[-1].title())\n",
    "print(f\"Mi auto {listaA[-2].title()} tiene {puerta[-2]} puertas\")"
   ]
  },
  {
   "cell_type": "markdown",
   "id": "4f487be5",
   "metadata": {},
   "source": [
    "### Operadores matemáticos de una lista:"
   ]
  },
  {
   "cell_type": "code",
   "execution_count": 6,
   "id": "1bb0c666",
   "metadata": {},
   "outputs": [
    {
     "name": "stdout",
     "output_type": "stream",
     "text": [
      "7600\n",
      "7000\n",
      "-200\n"
     ]
    }
   ],
   "source": [
    "lista3 = [100, 500, 200, 7000, -200]\n",
    "\n",
    "print(sum(lista3))\n",
    "print(max(lista3))\n",
    "print(min(lista3))"
   ]
  },
  {
   "cell_type": "code",
   "execution_count": 7,
   "id": "82fbad4d",
   "metadata": {},
   "outputs": [
    {
     "name": "stdout",
     "output_type": "stream",
     "text": [
      "[0, 1, 2, 3, 4, 5, 6]\n",
      "[1, 2, 3, 4, 5, 6, 7, 8, 9]\n",
      "[-10, -9, -8, -7, -6, -5, -4, -3, -2, -1, 0, 1]\n",
      "[200, 180, 160, 140, 120]\n",
      "[]\n"
     ]
    }
   ],
   "source": [
    "lista1 = list(range(7))\n",
    "lista2 = list(range(1, 10))\n",
    "lista3 = list(range(-10, 2))\n",
    "lista4 = list(range(200, 100, -20))\n",
    "lista5 = list(range(200, 100, 20))\n",
    "\n",
    "print(lista1)\n",
    "print(lista2)\n",
    "print(lista3)\n",
    "print(lista4)\n",
    "print(lista5)"
   ]
  },
  {
   "cell_type": "markdown",
   "id": "5d92ee7e",
   "metadata": {},
   "source": [
    "### Error común en una lista:"
   ]
  },
  {
   "cell_type": "code",
   "execution_count": 8,
   "id": "77741900",
   "metadata": {},
   "outputs": [
    {
     "name": "stdout",
     "output_type": "stream",
     "text": [
      "BMW\n"
     ]
    }
   ],
   "source": [
    "autos = ['mazda', 'audi', 'toyota', 'subaru', 'bmw', 'lamborghini']\n",
    "\n",
    "print(autos[4].upper())"
   ]
  },
  {
   "cell_type": "markdown",
   "id": "967715f0",
   "metadata": {},
   "source": [
    "## Condicionales"
   ]
  },
  {
   "cell_type": "markdown",
   "id": "f1eacbf4",
   "metadata": {},
   "source": [
    "### Hacer un programa que determine si un número ingresado por pantalla es par positivo o negativo."
   ]
  },
  {
   "cell_type": "code",
   "execution_count": 14,
   "id": "cb72888c",
   "metadata": {},
   "outputs": [
    {
     "name": "stdout",
     "output_type": "stream",
     "text": [
      "Ingrese un número entero, positivo o negativo: -8\n",
      "\n",
      "El número: -8\n",
      "Es un número: negativo\n"
     ]
    }
   ],
   "source": [
    "#Metodo 1: Utilizando if Anidado\n",
    "x = int(input(\"Ingrese un número entero, positivo o negativo: \"))\n",
    "if x > 0:\n",
    "    y = \"positivo\"\n",
    "else:   \n",
    "    if x < 0:\n",
    "        y = \"negativo\"\n",
    "    else:\n",
    "        if x == 0:\n",
    "             y = \"cero\"\n",
    "\n",
    "print(\"\\nEl número: {}\".format(x))\n",
    "print(\"Es un número: {}\".format(y))"
   ]
  },
  {
   "cell_type": "code",
   "execution_count": 19,
   "id": "7320e059",
   "metadata": {},
   "outputs": [
    {
     "name": "stdout",
     "output_type": "stream",
     "text": [
      "Ingrese un número entero, positivo o negativo: 76\n",
      "\n",
      "El numero: 76\n",
      "Es un número: positivo\n"
     ]
    }
   ],
   "source": [
    "#METODO 2: Utilizando elif\n",
    "\n",
    "#******************FUNCIÓN detecta POSITIVOS NEGATIVOS *****************\n",
    "def det(xx):\n",
    "    if xx < 0:\n",
    "        p = 'negativo'\n",
    "    elif xx > 0:\n",
    "        p = 'positivo'\n",
    "    else:\n",
    "        p = 'cero'\n",
    "        print(p)\n",
    "    return p\n",
    "\n",
    "###Ingresamos NÚMERO **************************************************\n",
    "num = int(input(\"Ingrese un número entero, positivo o negativo: \"))\n",
    "###LLAMAMOS A LA FUNCIÓN **********************************************\n",
    "#FUNCIÓN devuelve un resultado capturado en variable \"resp\"\n",
    "resp = det(num)\n",
    "\n",
    "#Imprimo RESULTADO\n",
    "print(\"\\nEl numero: {}\".format(num))\n",
    "print(\"Es un número: {}\".format(resp))"
   ]
  },
  {
   "cell_type": "markdown",
   "id": "4e3318ff",
   "metadata": {},
   "source": [
    "### Hacer un programa que pueda ingresar radio del Circulo y calcule: Perímetro, Área y Diámetro"
   ]
  },
  {
   "cell_type": "code",
   "execution_count": 22,
   "id": "55c8fa58",
   "metadata": {},
   "outputs": [
    {
     "name": "stdout",
     "output_type": "stream",
     "text": [
      "Ingrese el radio de un círculo: 23\n",
      "\n",
      "Seleccione una opción: \n",
      "a) Calcular el diámetro.\n",
      "b) Calcular el perímetro.\n",
      "c) Calcular el área.\n",
      "Digita a, b, o c y presiona enter: c\n",
      "\n",
      "El área del Círculo es 1661.9025137490005.\n"
     ]
    }
   ],
   "source": [
    "#MÉTODO 1: Utilizando if Anidado\n",
    "from math import pi\n",
    "\n",
    "radio = float(input(\"Ingrese el radio de un círculo: \"))\n",
    "\n",
    "#Menú\n",
    "print(\"\\nSeleccione una opción: \")\n",
    "print(\"a) Calcular el diámetro.\")\n",
    "print(\"b) Calcular el perímetro.\")\n",
    "print(\"c) Calcular el área.\")\n",
    "opción = input(\"Digita a, b, o c y presiona enter: \")\n",
    "\n",
    "if opción == \"a\":\n",
    "    diametro = 2 * radio\n",
    "    print(\"\\nEl diámetro del Círculo es {0}.\".format(diámetro))\n",
    "else:\n",
    "    if opción == \"b\":\n",
    "        perímetro = 2 * pi * radio\n",
    "        print(\"\\nEl perímetro del Círculo es {}.\".format(perímetro))\n",
    "    else:\n",
    "        if opción == \"c\":\n",
    "            área = pi * radio ** 2\n",
    "            print(\"\\nEl área del Círculo es {0}.\".format(área))\n",
    "        else:\n",
    "            print(\"\\nSolo hay tres opciones: a, b, c.\")\n",
    "            print('Tu has tecleado \"{0}\".'.format(opción))\n",
    "            "
   ]
  },
  {
   "cell_type": "code",
   "execution_count": 25,
   "id": "5087d135",
   "metadata": {},
   "outputs": [
    {
     "name": "stdout",
     "output_type": "stream",
     "text": [
      "Ingrese el radio de uin círculo: 34\n",
      "\n",
      "Seleccione una opción: \n",
      "a) Calcular el diámetro.\n",
      "b) Calcular el perímetro.\n",
      "c) Calcular el área.\n",
      "Digita a, b, o c y presiona enter: a\n",
      "\n",
      "El diámetro del Círculo es 68.0.\n"
     ]
    }
   ],
   "source": [
    "#MÉTODO 2: Utilizando elif\n",
    "from math import pi\n",
    "\n",
    "radio = float(input(\"Ingrese el radio de uin círculo: \"))\n",
    "\n",
    "#Menú\n",
    "print(\"\\nSeleccione una opción: \")\n",
    "print(\"a) Calcular el diámetro.\")\n",
    "print(\"b) Calcular el perímetro.\")\n",
    "print(\"c) Calcular el área.\")\n",
    "opción = input(\"Digita a, b, o c y presiona enter: \")\n",
    "\n",
    "if opción == \"a\":\n",
    "    diámetro = 2 * radio\n",
    "    print(\"\\nEl diámetro del Círculo es {0}.\".format(diámetro))\n",
    "elif opción == \"b\":\n",
    "    perímetro = 2 * pi * radio\n",
    "    print(\"El perímetro del Círculo es {0}.\".format(perímetro))\n",
    "elif opción == \"c\":\n",
    "    área = pi * radio ** 2\n",
    "    print(\"El área del Círculo es {0}.\".format(área))\n",
    "else:\n",
    "    print(\"Solo hay tres opciones: a, b, c.\")\n",
    "    print('Tu has tecleado \"{0}\".'.format(opción))"
   ]
  },
  {
   "cell_type": "markdown",
   "id": "eb87c137",
   "metadata": {},
   "source": [
    "### Hacer un programa que verifique si se ha comprado carne en la lista del mercado para hacer Parrillada"
   ]
  },
  {
   "cell_type": "code",
   "execution_count": 26,
   "id": "3fd84245",
   "metadata": {},
   "outputs": [
    {
     "name": "stdout",
     "output_type": "stream",
     "text": [
      "Hoy comemos rica Parrilla!\n"
     ]
    }
   ],
   "source": [
    "# Lista de Alimentos\n",
    "alimento = ['arroz', 'papas', 'camotes', 'leche', 'carne', 'cebolla', 'tomate', 'lechuga']\n",
    "\n",
    "if 'carne' in alimento:\n",
    "    print('Hoy comemos rica Parrilla!')\n",
    "else:\n",
    "    print('Hoy comemos Verduras')\n",
    "    "
   ]
  },
  {
   "cell_type": "markdown",
   "id": "afe6fa69",
   "metadata": {},
   "source": [
    "### Hacer un programa que verifique en una jugeria si tienen la fruta que deseas y te prepare un jugo"
   ]
  },
  {
   "cell_type": "code",
   "execution_count": 43,
   "id": "31523b51",
   "metadata": {},
   "outputs": [
    {
     "name": "stdout",
     "output_type": "stream",
     "text": [
      "Ingresa la fruta que deseas comer hoy: pera\n",
      "\n",
      "Si tenemos PERA !, te preparamos un Jugo\n",
      "\n",
      "Gracias por tu Preferencia! Vuelve pronto.\n"
     ]
    }
   ],
   "source": [
    "# *********** FUNCIÓN DE JUGUERÍA **************************************\n",
    "def preparar(fruit):\n",
    "    if fruit in fruta:\n",
    "        print(f'\\nSi tenemos {antojo.upper()} !, te preparamos un Jugo')\n",
    "    else:\n",
    "        print(f'\\Hoy no tenemos {antojo.upper()}, pero regresa Mañana')\n",
    "              \n",
    "            \n",
    "            \n",
    "# *********** Lista de Frutas ******************************************\n",
    "fruta = ['platano','manzana', 'pera', 'naranja', 'mandarina', 'uva']\n",
    "antojo = input('Ingresa la fruta que deseas comer hoy: ')\n",
    "    \n",
    "preparar(antojo)\n",
    "    \n",
    "print('\\nGracias por tu Preferencia! Vuelve pronto.')"
   ]
  },
  {
   "cell_type": "markdown",
   "id": "e4f76f14",
   "metadata": {},
   "source": [
    "### Hacer un programa que verifique mayoria de edad"
   ]
  },
  {
   "cell_type": "code",
   "execution_count": 49,
   "id": "8f89db43",
   "metadata": {},
   "outputs": [
    {
     "name": "stdout",
     "output_type": "stream",
     "text": [
      "Ingresa tu Nombre: Juanito\n",
      "Ingrese su edad: 12\n",
      "\n",
      "JUANITO es Menor de Edad con 12 años de edad\n"
     ]
    }
   ],
   "source": [
    "#*************FUNCIÓN que detecte la mayoría de edad ******************\n",
    "def mayoría(nom,xx):\n",
    "    if xx >= 18:\n",
    "        print(f'\\n{nom.upper()} es Mayor de Edad con {xx} años de edad')\n",
    "    else:\n",
    "        print(f'\\n{nom.upper()} es Menor de Edad con {xx} años de edad')\n",
    "        \n",
    "#*****************INGRESA DATOS****************************************\n",
    "nombre = input('Ingresa tu Nombre: ')\n",
    "edad = int(input('Ingrese su edad: '))\n",
    "\n",
    "mayoría(nombre,edad)"
   ]
  },
  {
   "cell_type": "markdown",
   "id": "7d17eb41",
   "metadata": {},
   "source": [
    "![](https://sindicatoaudiovisual.com/wp-content/uploads/2016/05/linea-roja-titulo.png)"
   ]
  },
  {
   "cell_type": "markdown",
   "id": "c6e1f72b",
   "metadata": {},
   "source": [
    "<center> <h1>GRACIAS</h1> </center>"
   ]
  },
  {
   "cell_type": "markdown",
   "id": "4f17776f",
   "metadata": {},
   "source": [
    "![](https://sindicatoaudiovisual.com/wp-content/uploads/2016/05/linea-roja-titulo.png)"
   ]
  }
 ],
 "metadata": {
  "kernelspec": {
   "display_name": "Python 3 (ipykernel)",
   "language": "python",
   "name": "python3"
  },
  "language_info": {
   "codemirror_mode": {
    "name": "ipython",
    "version": 3
   },
   "file_extension": ".py",
   "mimetype": "text/x-python",
   "name": "python",
   "nbconvert_exporter": "python",
   "pygments_lexer": "ipython3",
   "version": "3.8.13"
  }
 },
 "nbformat": 4,
 "nbformat_minor": 5
}
