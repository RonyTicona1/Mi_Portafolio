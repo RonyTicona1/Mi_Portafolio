{
 "cells": [
  {
   "cell_type": "markdown",
   "id": "92c690cc",
   "metadata": {},
   "source": [
    "<center> <h1>Universidad Nacional de San Agustín de Arequipa</h1> </center>\n",
    "<center> <h1>Escuela Profesional de Ingeniería de</h1> </center>\n",
    "<center> <h1>Telecomunicaciones</h1> </center>"
   ]
  },
  {
   "cell_type": "markdown",
   "id": "b64fee8a",
   "metadata": {},
   "source": [
    "![](https://live.staticflickr.com/3237/2298687478_0ecc6fb58b_z.jpg)"
   ]
  },
  {
   "cell_type": "markdown",
   "id": "b6eada66",
   "metadata": {},
   "source": [
    "<center> <h1>Ingeniero Renzo Bolivar - Docente DAIE </h1> </center>\n",
    "<center> <h1>Estudiante: Rony Ticona</h1> </center>"
   ]
  },
  {
   "attachments": {
    "finalsepazull.png": {
     "image/png": "[encoded data removed]"
    }
   },
   "cell_type": "markdown",
   "id": "ec4ea19b",
   "metadata": {},
   "source": [
    "![finalsepazull.png](attachment:finalsepazull.png)"
   ]
  },
  {
   "cell_type": "markdown",
   "id": "a682ce5b",
   "metadata": {},
   "source": [
    "<center> <h1>PYTHON</h1> </center>\n",
    "<center> <h1>Diccionario</h1> </center>"
   ]
  },
  {
   "cell_type": "markdown",
   "id": "ed5da142",
   "metadata": {},
   "source": [
    "![](https://sindicatoaudiovisual.com/wp-content/uploads/2016/05/linea-roja-titulo.png)"
   ]
  },
  {
   "cell_type": "markdown",
   "id": "b0d4b4d8",
   "metadata": {},
   "source": [
    "<center> <h1>DESARROLLO</h1> </center>"
   ]
  },
  {
   "cell_type": "markdown",
   "id": "035112e3",
   "metadata": {},
   "source": [
    "![](https://sindicatoaudiovisual.com/wp-content/uploads/2016/05/linea-roja-titulo.png)"
   ]
  },
  {
   "cell_type": "markdown",
   "id": "01eef675",
   "metadata": {},
   "source": [
    "-------"
   ]
  },
  {
   "cell_type": "markdown",
   "id": "8432a001",
   "metadata": {},
   "source": [
    "**Definición e Impresión**"
   ]
  },
  {
   "cell_type": "code",
   "execution_count": 1,
   "id": "d0b859cc",
   "metadata": {},
   "outputs": [
    {
     "data": {
      "text/plain": [
       "{'nombre': 'Henry', 'edad': 30, 'cursos': ['Python', 'C++', 'JavaScript']}"
      ]
     },
     "execution_count": 1,
     "metadata": {},
     "output_type": "execute_result"
    }
   ],
   "source": [
    "diccionario = {'nombre': \"Henry\", 'edad': 30, \"cursos\": [\"Python\",\"C++\",\"JavaScript\"]}\n",
    "diccionario"
   ]
  },
  {
   "cell_type": "code",
   "execution_count": 2,
   "id": "ab009b46",
   "metadata": {},
   "outputs": [
    {
     "name": "stdout",
     "output_type": "stream",
     "text": [
      "Henry\n",
      "30\n",
      "['Python', 'C++', 'JavaScript']\n"
     ]
    }
   ],
   "source": [
    "print (diccionario['nombre'])\n",
    "print (diccionario['edad'])\n",
    "print (diccionario['cursos'])"
   ]
  },
  {
   "cell_type": "markdown",
   "id": "5e861777",
   "metadata": {},
   "source": [
    "**Indexación de diccionario**"
   ]
  },
  {
   "cell_type": "code",
   "execution_count": 5,
   "id": "cccba973",
   "metadata": {},
   "outputs": [
    {
     "name": "stdout",
     "output_type": "stream",
     "text": [
      "Python\n",
      "C++\n",
      "JavaScript\n"
     ]
    }
   ],
   "source": [
    "print (diccionario['cursos'][0])\n",
    "print (diccionario['cursos'][1])\n",
    "print (diccionario['cursos'][2])"
   ]
  },
  {
   "cell_type": "markdown",
   "id": "dc0126c0",
   "metadata": {},
   "source": [
    "**Recorrer diccionario**"
   ]
  },
  {
   "cell_type": "code",
   "execution_count": 7,
   "id": "7685a040",
   "metadata": {},
   "outputs": [
    {
     "name": "stdout",
     "output_type": "stream",
     "text": [
      "nombre :  Henry\n",
      "edad :  30\n",
      "cursos :  ['Python', 'C++', 'JavaScript']\n"
     ]
    }
   ],
   "source": [
    "for key in diccionario:\n",
    "    print (key, \": \", diccionario[key])"
   ]
  },
  {
   "cell_type": "markdown",
   "id": "c7fb8443",
   "metadata": {},
   "source": [
    "**Métodos del objeto diccionario**"
   ]
  },
  {
   "cell_type": "code",
   "execution_count": 8,
   "id": "0849df3b",
   "metadata": {},
   "outputs": [],
   "source": [
    "notas = {\"nombre\" : \"Pablo\", \"nota1\": 12, \"nota2\": 18, \"nota3\": 15}"
   ]
  },
  {
   "cell_type": "code",
   "execution_count": 9,
   "id": "451609a7",
   "metadata": {},
   "outputs": [
    {
     "data": {
      "text/plain": [
       "4"
      ]
     },
     "execution_count": 9,
     "metadata": {},
     "output_type": "execute_result"
    }
   ],
   "source": [
    "len(notas)"
   ]
  },
  {
   "cell_type": "code",
   "execution_count": 11,
   "id": "cf71bbf3",
   "metadata": {},
   "outputs": [
    {
     "data": {
      "text/plain": [
       "dict_items([('nombre', 'Pablo'), ('nota1', 12), ('nota2', 18), ('nota3', 15)])"
      ]
     },
     "execution_count": 11,
     "metadata": {},
     "output_type": "execute_result"
    }
   ],
   "source": [
    "#ÍTEMS(): Devuelve una lista de tuplas, cada tupla se compone de dos elementos: el primero será la clave y el segundo, su valor.\n",
    "\n",
    "item = notas.items()\n",
    "item"
   ]
  },
  {
   "cell_type": "code",
   "execution_count": 12,
   "id": "418f7834",
   "metadata": {},
   "outputs": [
    {
     "data": {
      "text/plain": [
       "dict_keys(['nombre', 'nota1', 'nota2', 'nota3'])"
      ]
     },
     "execution_count": 12,
     "metadata": {},
     "output_type": "execute_result"
    }
   ],
   "source": [
    "#keys():Retorna una lista de elementos, los cuales serán las claves de nuestro diicionario.\n",
    " \n",
    "key = notas.keys()\n",
    "key"
   ]
  },
  {
   "cell_type": "code",
   "execution_count": 13,
   "id": "3c3b00ee",
   "metadata": {},
   "outputs": [
    {
     "data": {
      "text/plain": [
       "dict_values(['Pablo', 12, 18, 15])"
      ]
     },
     "execution_count": 13,
     "metadata": {},
     "output_type": "execute_result"
    }
   ],
   "source": [
    "#Values(): Retorna una lista de elementos, que serán los valores de nuestro Diccionario.\n",
    "\n",
    "valor = notas.values()\n",
    "valor"
   ]
  },
  {
   "cell_type": "code",
   "execution_count": 14,
   "id": "e2f81cd8",
   "metadata": {},
   "outputs": [
    {
     "data": {
      "text/plain": [
       "{'nombre': 'Pablo', 'nota1': 12, 'nota2': 18, 'nota3': 15}"
      ]
     },
     "execution_count": 14,
     "metadata": {},
     "output_type": "execute_result"
    }
   ],
   "source": [
    "#copy(): Retorna una copia del diccionario original.\n",
    "\n",
    "copia = notas.copy()\n",
    "copia"
   ]
  },
  {
   "cell_type": "code",
   "execution_count": 15,
   "id": "cea0a462",
   "metadata": {},
   "outputs": [
    {
     "name": "stdout",
     "output_type": "stream",
     "text": [
      "None\n"
     ]
    }
   ],
   "source": [
    "#Clear(): Elimina todos los ítems del diccionario dejándolo vacio.\n",
    "\n",
    "vacio = copia.clear()\n",
    "print(vacio)"
   ]
  },
  {
   "cell_type": "markdown",
   "id": "047516af",
   "metadata": {},
   "source": [
    "![](https://sindicatoaudiovisual.com/wp-content/uploads/2016/05/linea-roja-titulo.png)"
   ]
  },
  {
   "cell_type": "markdown",
   "id": "e60142c3",
   "metadata": {},
   "source": [
    "<center> <h1>EJEMPLOS</h1> </center>"
   ]
  },
  {
   "cell_type": "markdown",
   "id": "42b66610",
   "metadata": {},
   "source": [
    "![](https://sindicatoaudiovisual.com/wp-content/uploads/2016/05/linea-roja-titulo.png)"
   ]
  },
  {
   "cell_type": "markdown",
   "id": "42042906",
   "metadata": {},
   "source": [
    "***Ejemplo 1:*** Escribir un programa que almacene el diccionario con los créditos de las asignaturas de un curso {'Matemáticas': 6, 'Física': 4, 'Química': 5} ..."
   ]
  },
  {
   "cell_type": "code",
   "execution_count": 18,
   "id": "43322279",
   "metadata": {},
   "outputs": [
    {
     "name": "stdout",
     "output_type": "stream",
     "text": [
      "Matemáticas  Tiene  6  Créditos \n",
      "Física  Tiene  4  Créditos \n",
      "Química  Tiene  5  Créditos \n",
      "El número total de créditos del curso es:  15\n"
     ]
    }
   ],
   "source": [
    "curso = {\"Matemáticas\": 6, \"Física\": 4, \"Química\": 5}\n",
    "total_creditos = 0\n",
    "\n",
    "for nombre, creditos in curso.items():\n",
    "    print(nombre, \" Tiene \", creditos, \" Créditos \")\n",
    "    total_creditos += creditos\n",
    "    \n",
    "print(\"El número total de créditos del curso es: \", total_creditos)\n"
   ]
  },
  {
   "cell_type": "code",
   "execution_count": null,
   "id": "221a9e62",
   "metadata": {},
   "outputs": [],
   "source": []
  }
 ],
 "metadata": {
  "kernelspec": {
   "display_name": "Python 3 (ipykernel)",
   "language": "python",
   "name": "python3"
  },
  "language_info": {
   "codemirror_mode": {
    "name": "ipython",
    "version": 3
   },
   "file_extension": ".py",
   "mimetype": "text/x-python",
   "name": "python",
   "nbconvert_exporter": "python",
   "pygments_lexer": "ipython3",
   "version": "3.8.13"
  }
 },
 "nbformat": 4,
 "nbformat_minor": 5
}
