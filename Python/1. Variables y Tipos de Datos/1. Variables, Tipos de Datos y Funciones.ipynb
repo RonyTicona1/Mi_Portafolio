{
 "cells": [
  {
   "cell_type": "markdown",
   "id": "61892ffd",
   "metadata": {},
   "source": [
    "<center> <h1>Universidad Nacional de San Agustín de Arequipa</h1> </center>"
   ]
  },
  {
   "cell_type": "markdown",
   "id": "6cbaf197",
   "metadata": {},
   "source": [
    "<center> <h1>Escuela Profesional de Ingeniería de Telecomunicaciones<h1>  <center/>"
   ]
  },
  {
   "cell_type": "markdown",
   "id": "6a8c2cf3",
   "metadata": {},
   "source": [
    "![](https://live.staticflickr.com/3237/2298687478_0ecc6fb58b_z.jpg)"
   ]
  },
  {
   "cell_type": "markdown",
   "id": "55eac235",
   "metadata": {},
   "source": [
    "<center> <h1>Ingeniero Renzo Bolivar - Docente DAIE </h1> </center>\n",
    "<center> <h1>Alumno: Rony Ticona</h1> </center>\n",
    "<center> <h1>Curso: Computación 1</h1> </center>"
   ]
  },
  {
   "attachments": {
    "linea%20naranja.png": {
     "image/png": "[encoded data removed]"
    }
   },
   "cell_type": "markdown",
   "id": "8b4d4ba9",
   "metadata": {},
   "source": [
    "![linea%20naranja.png](attachment:linea%20naranja.png)"
   ]
  },
  {
   "cell_type": "markdown",
   "id": "04c5d6e2",
   "metadata": {},
   "source": [
    "<center> <h1>PRÁCTICA 02</h1> </center>\n",
    "<center> <h1>PYTHON - Variables, Tipos de Datos y Funciones Básicas</h1> </center>"
   ]
  },
  {
   "cell_type": "markdown",
   "id": "28f20c88",
   "metadata": {},
   "source": [
    "![](https://sindicatoaudiovisual.com/wp-content/uploads/2016/05/linea-roja-titulo.png)"
   ]
  },
  {
   "cell_type": "markdown",
   "id": "6b455546",
   "metadata": {},
   "source": [
    "# <font color='sky blue'>**Variables y Tipos de Datos**</font>"
   ]
  },
  {
   "cell_type": "markdown",
   "id": "b67e72a7",
   "metadata": {},
   "source": [
    "**Variable**. Se utilizan para contener datos de distintos tipos: números, char (letra), string (cadenas de caracteres), valores lógicos, etc. El valor contenido en una variable puede cambiar a lo largo de la ejecución de un programa. Una variable usa la memoria principal para almacenar los datos."
   ]
  },
  {
   "cell_type": "code",
   "execution_count": 10,
   "id": "f836047f",
   "metadata": {},
   "outputs": [],
   "source": [
    "x = 5             #Número Entero\n",
    "y = 5.5           #Número Flotante\n",
    "j = \"q\"           #Caracter string\n",
    "k = 'Buenos Días' #Cadena de Caracteres string\n",
    "m = True          #Lógico"
   ]
  },
  {
   "cell_type": "code",
   "execution_count": 12,
   "id": "fb169bf4",
   "metadata": {},
   "outputs": [
    {
     "data": {
      "text/plain": [
       "int"
      ]
     },
     "execution_count": 12,
     "metadata": {},
     "output_type": "execute_result"
    }
   ],
   "source": [
    "type(x)           #Número Entero"
   ]
  },
  {
   "cell_type": "code",
   "execution_count": 13,
   "id": "52159bbf",
   "metadata": {},
   "outputs": [
    {
     "data": {
      "text/plain": [
       "float"
      ]
     },
     "execution_count": 13,
     "metadata": {},
     "output_type": "execute_result"
    }
   ],
   "source": [
    "type(y)           #Número Flotante"
   ]
  },
  {
   "cell_type": "code",
   "execution_count": 14,
   "id": "0d6f2d3d",
   "metadata": {},
   "outputs": [
    {
     "data": {
      "text/plain": [
       "str"
      ]
     },
     "execution_count": 14,
     "metadata": {},
     "output_type": "execute_result"
    }
   ],
   "source": [
    "type(j)           #Caracter string"
   ]
  },
  {
   "cell_type": "code",
   "execution_count": 15,
   "id": "dc24a1cf",
   "metadata": {},
   "outputs": [
    {
     "data": {
      "text/plain": [
       "str"
      ]
     },
     "execution_count": 15,
     "metadata": {},
     "output_type": "execute_result"
    }
   ],
   "source": [
    "type(k)           #Cadena de Caracteres string"
   ]
  },
  {
   "cell_type": "code",
   "execution_count": 16,
   "id": "a8935a1d",
   "metadata": {},
   "outputs": [
    {
     "data": {
      "text/plain": [
       "bool"
      ]
     },
     "execution_count": 16,
     "metadata": {},
     "output_type": "execute_result"
    }
   ],
   "source": [
    "type(m)           #Lógico "
   ]
  },
  {
   "cell_type": "code",
   "execution_count": 18,
   "id": "b631bf63",
   "metadata": {},
   "outputs": [
    {
     "name": "stdout",
     "output_type": "stream",
     "text": [
      "<class 'int'>\n"
     ]
    }
   ],
   "source": [
    "print(type(x))"
   ]
  },
  {
   "cell_type": "markdown",
   "id": "81c78795",
   "metadata": {},
   "source": [
    "## Operadores"
   ]
  },
  {
   "cell_type": "markdown",
   "id": "35bfa1d0",
   "metadata": {},
   "source": [
    "### Aritméticos:"
   ]
  },
  {
   "cell_type": "code",
   "execution_count": 19,
   "id": "d66a229c",
   "metadata": {},
   "outputs": [
    {
     "data": {
      "text/plain": [
       "2.5"
      ]
     },
     "execution_count": 19,
     "metadata": {},
     "output_type": "execute_result"
    }
   ],
   "source": [
    "15 / 6"
   ]
  },
  {
   "cell_type": "code",
   "execution_count": 20,
   "id": "31b4d492",
   "metadata": {},
   "outputs": [
    {
     "data": {
      "text/plain": [
       "2"
      ]
     },
     "execution_count": 20,
     "metadata": {},
     "output_type": "execute_result"
    }
   ],
   "source": [
    "15 // 6"
   ]
  },
  {
   "cell_type": "code",
   "execution_count": 21,
   "id": "48aad338",
   "metadata": {},
   "outputs": [
    {
     "data": {
      "text/plain": [
       "3"
      ]
     },
     "execution_count": 21,
     "metadata": {},
     "output_type": "execute_result"
    }
   ],
   "source": [
    "15 % 6"
   ]
  },
  {
   "cell_type": "code",
   "execution_count": 23,
   "id": "dc0388f2",
   "metadata": {},
   "outputs": [
    {
     "name": "stdout",
     "output_type": "stream",
     "text": [
      "2.5\n",
      "2\n",
      "3\n"
     ]
    }
   ],
   "source": [
    "a = 15\n",
    "b = 6\n",
    "\n",
    "print(a / b)\n",
    "print(a // b)\n",
    "print(a%b)"
   ]
  },
  {
   "cell_type": "markdown",
   "id": "ff5fe03c",
   "metadata": {},
   "source": [
    "**Orden de operadores**. La aritmética que aprendimos en la escuela primaria tiene convenciones sobre el orden en que se evaluán las operaciones. Algunos las recuerdan por un mnemotécnico como:\n",
    "    \n",
    "**PEMDAS** - **P**arentheses, **E**xponents, **M**ultiplication/**D**ivision, **A**ddition/**S**ubtraction."
   ]
  },
  {
   "cell_type": "code",
   "execution_count": 24,
   "id": "9ae578c0",
   "metadata": {},
   "outputs": [
    {
     "data": {
      "text/plain": [
       "29.0"
      ]
     },
     "execution_count": 24,
     "metadata": {},
     "output_type": "execute_result"
    }
   ],
   "source": [
    "-3 + 4 ** 2 * 10 / 5"
   ]
  },
  {
   "cell_type": "code",
   "execution_count": 25,
   "id": "d0f29ddd",
   "metadata": {},
   "outputs": [
    {
     "data": {
      "text/plain": [
       "2.0"
      ]
     },
     "execution_count": 25,
     "metadata": {},
     "output_type": "execute_result"
    }
   ],
   "source": [
    "(-3 + 4) ** 2 * 10 / 5"
   ]
  },
  {
   "cell_type": "markdown",
   "id": "81cf662e",
   "metadata": {},
   "source": [
    "**Expresiones**"
   ]
  },
  {
   "cell_type": "code",
   "execution_count": 27,
   "id": "2aa3a0e7",
   "metadata": {},
   "outputs": [
    {
     "name": "stdout",
     "output_type": "stream",
     "text": [
      "28.0\n",
      "<class 'float'>\n"
     ]
    }
   ],
   "source": [
    "a = 6\n",
    "b = 9.5\n",
    "\n",
    "resultado = (a * b)//2\n",
    "print(resultado)\n",
    "print(type(resultado))"
   ]
  },
  {
   "cell_type": "markdown",
   "id": "1ca716bd",
   "metadata": {},
   "source": [
    "### Relacionales:"
   ]
  },
  {
   "cell_type": "code",
   "execution_count": 28,
   "id": "0ddda740",
   "metadata": {},
   "outputs": [
    {
     "data": {
      "text/plain": [
       "False"
      ]
     },
     "execution_count": 28,
     "metadata": {},
     "output_type": "execute_result"
    }
   ],
   "source": [
    "10 > 50"
   ]
  },
  {
   "cell_type": "code",
   "execution_count": 29,
   "id": "e33388e3",
   "metadata": {},
   "outputs": [
    {
     "data": {
      "text/plain": [
       "False"
      ]
     },
     "execution_count": 29,
     "metadata": {},
     "output_type": "execute_result"
    }
   ],
   "source": [
    "x = 100\n",
    "y = 14\n",
    "\n",
    "x == y"
   ]
  },
  {
   "cell_type": "code",
   "execution_count": 30,
   "id": "b77980f6",
   "metadata": {},
   "outputs": [
    {
     "name": "stdout",
     "output_type": "stream",
     "text": [
      "False\n"
     ]
    }
   ],
   "source": [
    "print(x == y)"
   ]
  },
  {
   "cell_type": "markdown",
   "id": "7e0fe1f4",
   "metadata": {},
   "source": [
    "### Lógicos:"
   ]
  },
  {
   "cell_type": "code",
   "execution_count": 31,
   "id": "b82e4bcc",
   "metadata": {},
   "outputs": [
    {
     "data": {
      "text/plain": [
       "False"
      ]
     },
     "execution_count": 31,
     "metadata": {},
     "output_type": "execute_result"
    }
   ],
   "source": [
    "A = True\n",
    "B = False\n",
    "\n",
    "A and B"
   ]
  },
  {
   "cell_type": "code",
   "execution_count": 32,
   "id": "8adb97d5",
   "metadata": {},
   "outputs": [
    {
     "name": "stdout",
     "output_type": "stream",
     "text": [
      "False\n"
     ]
    }
   ],
   "source": [
    "print(A and B)"
   ]
  },
  {
   "cell_type": "markdown",
   "id": "63b58e8c",
   "metadata": {},
   "source": [
    "## Funciones simples"
   ]
  },
  {
   "cell_type": "code",
   "execution_count": 36,
   "id": "338d5bfd",
   "metadata": {},
   "outputs": [
    {
     "name": "stdout",
     "output_type": "stream",
     "text": [
      "Buenos Días\n",
      "Buenos Días\n",
      "Buenos Días\n"
     ]
    }
   ],
   "source": [
    "# definimos una función simple\n",
    "# impresion repetida\n",
    "\n",
    "def imprime_3():\n",
    "    print(\"Buenos Días\")\n",
    "    print(\"Buenos Días\")\n",
    "    print(\"Buenos Días\")\n",
    "    \n",
    "imprime_3()   "
   ]
  },
  {
   "cell_type": "code",
   "execution_count": 38,
   "id": "41a3ebb2",
   "metadata": {},
   "outputs": [
    {
     "name": "stdout",
     "output_type": "stream",
     "text": [
      "Buenos Díaṣ \n",
      "Buenos Díaṣ \n",
      "Buenos Díaṣ \n",
      "\n"
     ]
    }
   ],
   "source": [
    "# definimos una función simple\n",
    "# impresion repetida\n",
    "\n",
    "def imprime_3():\n",
    "    print(\"Buenos Díaṣ \\n\" * 3)\n",
    "\n",
    "imprime_3()    "
   ]
  },
  {
   "cell_type": "code",
   "execution_count": 39,
   "id": "fd2840f1",
   "metadata": {},
   "outputs": [
    {
     "name": "stdout",
     "output_type": "stream",
     "text": [
      "Hola \n",
      "Hola \n",
      "Hola \n",
      "\n"
     ]
    }
   ],
   "source": [
    "# definimos una función simple\n",
    "# impresión repetida\n",
    "\n",
    "def imprime_3(a):\n",
    "    print(a * 3)\n",
    "    \n",
    "x = \"Hola \\n\"\n",
    "imprime_3(x)"
   ]
  },
  {
   "cell_type": "code",
   "execution_count": 40,
   "id": "ca72216b",
   "metadata": {},
   "outputs": [
    {
     "data": {
      "text/plain": [
       "4489"
      ]
     },
     "execution_count": 40,
     "metadata": {},
     "output_type": "execute_result"
    }
   ],
   "source": [
    "# definimos una función simple\n",
    "# area del cuadrado\n",
    "\n",
    "def area_cuadrado(lado):\n",
    "    area = lado * lado\n",
    "    return(area)\n",
    "\n",
    "area_cuadrado(67)"
   ]
  },
  {
   "cell_type": "code",
   "execution_count": 41,
   "id": "417bb234",
   "metadata": {},
   "outputs": [
    {
     "name": "stdout",
     "output_type": "stream",
     "text": [
      "3.141592653589793\n"
     ]
    }
   ],
   "source": [
    "# utilizamos función matemáticas conocidas\n",
    "import math\n",
    "\n",
    "pi = math.pi\n",
    "print(pi)"
   ]
  },
  {
   "cell_type": "markdown",
   "id": "55170bd8",
   "metadata": {},
   "source": [
    "![](https://sindicatoaudiovisual.com/wp-content/uploads/2016/05/linea-roja-titulo.png)"
   ]
  },
  {
   "cell_type": "markdown",
   "id": "930e0a11",
   "metadata": {},
   "source": [
    "# <font color='sky blue'>EJEMPLOS</font>"
   ]
  },
  {
   "cell_type": "markdown",
   "id": "95229fb1",
   "metadata": {},
   "source": [
    "## Variables"
   ]
  },
  {
   "cell_type": "code",
   "execution_count": 42,
   "id": "7f166cca",
   "metadata": {},
   "outputs": [
    {
     "name": "stdout",
     "output_type": "stream",
     "text": [
      "\n",
      " bienvenidos a python\n",
      "\n",
      " BIENVENIDOS A PYTHON\n",
      "\n",
      " En Minusculas\n"
     ]
    }
   ],
   "source": [
    "#Cambiando el resultado de la impresión en pantalla\n",
    "\n",
    "x = \"Bienvenidos a Python\"\n",
    "y = \"en minusculas\"\n",
    "\n",
    "lowcase = x.lower()    #cadena de caracteres en minusculas     \n",
    "uppcase = x.upper()    #cadena de caracteres en mayusculas\n",
    "titcase = y.title()    #cadena de caracteres como titulo\n",
    "\n",
    "print('\\n',lowcase)\n",
    "print('\\n',uppcase)\n",
    "print('\\n',titcase)"
   ]
  },
  {
   "cell_type": "code",
   "execution_count": 43,
   "id": "fa0c9abe",
   "metadata": {},
   "outputs": [
    {
     "name": "stdout",
     "output_type": "stream",
     "text": [
      "\t bienvenidos a python \t BIENVENIDOS A PYTHON \t En Minusculas\n"
     ]
    }
   ],
   "source": [
    "#Cambiando el resultado de la impresión en pantalla Tabulando\n",
    "\n",
    "x = \"Bienvenidos a Python\"\n",
    "y = 'en minusculas'\n",
    "\n",
    "lowcase = x.lower()    #cadena de caracteres en minusculas\n",
    "uppcase = x.upper()    #cadena de caracteres en mayusculas\n",
    "titcase = y.title()    #cadena de caracteres como titulo\n",
    "\n",
    "print('\\t',lowcase,'\\t',uppcase,'\\t',titcase)    #\\t ingresa \"tabulado\""
   ]
  },
  {
   "cell_type": "code",
   "execution_count": 45,
   "id": "47c46175",
   "metadata": {},
   "outputs": [
    {
     "name": "stdout",
     "output_type": "stream",
     "text": [
      "Hola,\n",
      " Me llamo:  Milo \n",
      " y tengo:  25 años.\n"
     ]
    }
   ],
   "source": [
    "#Cambiando el resultado de la impresión en pantalla mezcla con variables\n",
    "\n",
    "nom = \"Milo\"\n",
    "age = 25\n",
    "print(\"Hola,\\n Me llamo: \", nom, \"\\n y tengo: \", age, \"años.\")"
   ]
  },
  {
   "cell_type": "code",
   "execution_count": 48,
   "id": "89f73894",
   "metadata": {},
   "outputs": [
    {
     "name": "stdout",
     "output_type": "stream",
     "text": [
      "Elvalor de \"x\" es: 32.5, y el valor  de \"y\" es 40000 ...\n",
      "El valor de \"x\" es:  32.5 , y el valor de \"y\" es  40000  ...\n"
     ]
    }
   ],
   "source": [
    "#imprimiendo en una variable\n",
    "x = 10 * 3.25\n",
    "y = 200 * 200\n",
    "\n",
    "#repr(obj): Retorna una cadena que contiene una representación imprimible de \"obj\".\n",
    "\n",
    "z = 'Elvalor de \"x\" es: ' + repr(x) + ', y el valor  de \"y\" es ' + repr(y) + ' ...'\n",
    "\n",
    "print(z)\n",
    "\n",
    "print('El valor de \"x\" es: ',x,', y el valor de \"y\" es ',y,' ...')"
   ]
  },
  {
   "cell_type": "markdown",
   "id": "c2e3040a",
   "metadata": {},
   "source": [
    "## Formatear cadenas\n",
    "\n",
    "**f-strings:** permiten incluir el valor de las expresiones de Python dentro de una cadena prefijando la cadena con **f** o **F** y escribiendo expresiones como {**expresion**}."
   ]
  },
  {
   "cell_type": "code",
   "execution_count": 50,
   "id": "dbc6f373",
   "metadata": {},
   "outputs": [
    {
     "name": "stdout",
     "output_type": "stream",
     "text": [
      "El valor de \"pi\" es aproximadamente: 3.142\n"
     ]
    }
   ],
   "source": [
    "#Formatear cadenas con f-strings\n",
    "#Importamos librería \"math\" para utilizar funciones adicionales de matemáticas\n",
    "import math\n",
    "\n",
    "print(f'El valor de \"pi\" es aproximadamente:{math.pi: .3f}')    #\".3f\" permite una precision de 3 decimales"
   ]
  },
  {
   "cell_type": "code",
   "execution_count": 53,
   "id": "9d9a3a4b",
   "metadata": {},
   "outputs": [
    {
     "name": "stdout",
     "output_type": "stream",
     "text": [
      "Hola,\n",
      " Me llamo: Milo,\n",
      " y tengo: 25 años.\n"
     ]
    }
   ],
   "source": [
    "# reinprimiendo ejemplo anterior con variables \n",
    "nom = \"Milo\"\n",
    "age = 25\n",
    "\n",
    "print(f\"Hola,\\n Me llamo: {nom},\\n y tengo: {age} años.\")"
   ]
  },
  {
   "cell_type": "markdown",
   "id": "7629378f",
   "metadata": {},
   "source": [
    "método **str.format():** Realiza una operación de formateo. La cadena de caracteres sobre la que se está ejecutando este método puede\n",
    "contener texto literal y también marcas de reemplazo de texto definidas mediante llaves **{}**."
   ]
  },
  {
   "cell_type": "code",
   "execution_count": 54,
   "id": "c6e98498",
   "metadata": {},
   "outputs": [
    {
     "name": "stdout",
     "output_type": "stream",
     "text": [
      "Hola,\n",
      " Me llamo: Milo \n",
      " y tengo 25 años.\n"
     ]
    }
   ],
   "source": [
    "# Formatear cadenas con str.format()\n",
    "# Un número en las llaves se refiere a la posición del objeto pasado en el str.format().\n",
    "# reinprimiendo ejemplo anterior con variables\n",
    "nom = \"Milo\"\n",
    "age = 25\n",
    "\n",
    "print(\"Hola,\\n Me llamo: {0} \\n y tengo {1} años.\".format(nom,age))"
   ]
  },
  {
   "cell_type": "markdown",
   "id": "57998b01",
   "metadata": {},
   "source": [
    "## Función input( )"
   ]
  },
  {
   "cell_type": "code",
   "execution_count": 59,
   "id": "0d4e3ffd",
   "metadata": {},
   "outputs": [
    {
     "name": "stdout",
     "output_type": "stream",
     "text": [
      "Ingrese su Nombre\n",
      "Rony\n",
      "Un gusto conocerte, Rony.\n"
     ]
    }
   ],
   "source": [
    "#   Ingreso por teclado\n",
    "print(\"Ingrese su Nombre\")\n",
    "nom = input()\n",
    "\n",
    "print(f\"Un gusto conocerte, {nom}.\")"
   ]
  },
  {
   "cell_type": "code",
   "execution_count": 60,
   "id": "98a7128b",
   "metadata": {},
   "outputs": [
    {
     "name": "stdout",
     "output_type": "stream",
     "text": [
      "Ingrese su Nombre: Rony\n",
      "Un gusto conocerte, Rony.\n"
     ]
    }
   ],
   "source": [
    "#   Ingreso por teclado una sola línea\n",
    "nom = input(\"Ingrese su Nombre: \")\n",
    "\n",
    "print(f\"Un gusto conocerte, {nom}.\")"
   ]
  },
  {
   "cell_type": "markdown",
   "id": "baff3605",
   "metadata": {},
   "source": [
    "## Funciones"
   ]
  },
  {
   "cell_type": "code",
   "execution_count": 68,
   "id": "92e81295",
   "metadata": {},
   "outputs": [
    {
     "name": "stdout",
     "output_type": "stream",
     "text": [
      "Ingrese nombre Producto: Lechuga\n",
      "Ingrese el Precio del Producto: 2\n",
      "El importe total de Lechuga, es: 2.36\n"
     ]
    }
   ],
   "source": [
    "# Hacer un programa que utilice una función que Calcule el Importe Total\n",
    "# se ingresa por teclado precio y nombre del producto\n",
    "\n",
    "def valor(precio):\n",
    "    igv = precio * 0.18\n",
    "    importe = precio + igv\n",
    "    return(importe)\n",
    "producto = input('Ingrese nombre Producto: ')\n",
    "imp = float(input(\"Ingrese el Precio del Producto: \"))   #CORREGIMOS cambiando el ingreso como tipo float\n",
    "print('El importe total de {0}, es: {1}'.format(producto,valor(imp)))"
   ]
  },
  {
   "cell_type": "markdown",
   "id": "6023b18f",
   "metadata": {},
   "source": [
    "<center> <h1>GRACIAS<h1/> <center/>"
   ]
  },
  {
   "cell_type": "markdown",
   "id": "1635aa60",
   "metadata": {},
   "source": [
    "![](https://sindicatoaudiovisual.com/wp-content/uploads/2016/05/linea-roja-titulo.png)"
   ]
  }
 ],
 "metadata": {
  "kernelspec": {
   "display_name": "Python 3 (ipykernel)",
   "language": "python",
   "name": "python3"
  },
  "language_info": {
   "codemirror_mode": {
    "name": "ipython",
    "version": 3
   },
   "file_extension": ".py",
   "mimetype": "text/x-python",
   "name": "python",
   "nbconvert_exporter": "python",
   "pygments_lexer": "ipython3",
   "version": "3.8.13"
  }
 },
 "nbformat": 4,
 "nbformat_minor": 5
}
