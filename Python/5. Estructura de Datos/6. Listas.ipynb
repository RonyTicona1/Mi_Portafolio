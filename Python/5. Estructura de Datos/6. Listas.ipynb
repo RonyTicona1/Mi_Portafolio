{
 "cells": [
  {
   "cell_type": "markdown",
   "id": "c4b39f2d",
   "metadata": {},
   "source": [
    "<center> <h1>Universidad Nacional de San Agustín de Arequipa</h1> </center>\n",
    "<center> <h1>Escuela Profesional de Ingeniería de</h1> </center>\n",
    "<center> <h1>Telecomunicaciones</h1> </center>"
   ]
  },
  {
   "cell_type": "markdown",
   "id": "ff528c2a",
   "metadata": {},
   "source": [
    "![](https://live.staticflickr.com/3237/2298687478_0ecc6fb58b_z.jpg)"
   ]
  },
  {
   "cell_type": "markdown",
   "id": "42f6385e",
   "metadata": {},
   "source": [
    "<center> <h1>Ingeniero Renzo Bolivar - Docente DAIE </h1> </center>\n",
    "<center> <h1>Estudiante: Rony Ticona</h1> </center>"
   ]
  },
  {
   "attachments": {
    "finalsepazull.png": {
     "image/png": "[encoded data removed]"
    }
   },
   "cell_type": "markdown",
   "id": "d3c35c45",
   "metadata": {},
   "source": [
    "![finalsepazull.png](attachment:finalsepazull.png)"
   ]
  },
  {
   "cell_type": "markdown",
   "id": "15e89bc1",
   "metadata": {},
   "source": [
    "<center> <h1>PYTHON</h1> </center>\n",
    "<center> <h1>Listas</h1> </center>"
   ]
  },
  {
   "cell_type": "markdown",
   "id": "4f6a2aa0",
   "metadata": {},
   "source": [
    "![](https://sindicatoaudiovisual.com/wp-content/uploads/2016/05/linea-roja-titulo.png)"
   ]
  },
  {
   "cell_type": "markdown",
   "id": "78d9abb4",
   "metadata": {},
   "source": [
    "<center> <h1>DESARROLLO</h1> </center>"
   ]
  },
  {
   "cell_type": "markdown",
   "id": "864b98aa",
   "metadata": {},
   "source": [
    "![](https://sindicatoaudiovisual.com/wp-content/uploads/2016/05/linea-roja-titulo.png)"
   ]
  },
  {
   "cell_type": "markdown",
   "id": "17312e4c",
   "metadata": {},
   "source": [
    "---"
   ]
  },
  {
   "cell_type": "markdown",
   "id": "197e31f6",
   "metadata": {},
   "source": [
    "**Lista simple de números**"
   ]
  },
  {
   "cell_type": "code",
   "execution_count": 2,
   "id": "f560ffac",
   "metadata": {},
   "outputs": [
    {
     "data": {
      "text/plain": [
       "[1990, 2000, 2010, 2015, 2018, 2020, 2021]"
      ]
     },
     "execution_count": 2,
     "metadata": {},
     "output_type": "execute_result"
    }
   ],
   "source": [
    "[1990,2000,2010,2015,2018,2020,2021]"
   ]
  },
  {
   "cell_type": "markdown",
   "id": "c6721544",
   "metadata": {},
   "source": [
    "**Lista de cadena de texto**"
   ]
  },
  {
   "cell_type": "code",
   "execution_count": 3,
   "id": "febd8ab0",
   "metadata": {},
   "outputs": [
    {
     "data": {
      "text/plain": [
       "['gato', 'perro', 'caballo']"
      ]
     },
     "execution_count": 3,
     "metadata": {},
     "output_type": "execute_result"
    }
   ],
   "source": [
    "[\"gato\", 'perro', \"caballo\"]"
   ]
  },
  {
   "cell_type": "markdown",
   "id": "d25cfb59",
   "metadata": {},
   "source": [
    "**Listas asignadas a una variable**"
   ]
  },
  {
   "cell_type": "code",
   "execution_count": 4,
   "id": "6320c86e",
   "metadata": {},
   "outputs": [
    {
     "data": {
      "text/plain": [
       "[1990, 2000, 2010, 2015, 2018, 2020, 2021]"
      ]
     },
     "execution_count": 4,
     "metadata": {},
     "output_type": "execute_result"
    }
   ],
   "source": [
    "tiempo =[1990,2000,2010,2015,2018,2020,2021]\n",
    "tiempo"
   ]
  },
  {
   "cell_type": "code",
   "execution_count": 5,
   "id": "3bd0a03b",
   "metadata": {},
   "outputs": [
    {
     "name": "stdout",
     "output_type": "stream",
     "text": [
      "[1, 2, 3, 4, 5, 6, 7, 8, 9]\n"
     ]
    }
   ],
   "source": [
    "num = list(range(1,10))\n",
    "print(num)"
   ]
  },
  {
   "cell_type": "code",
   "execution_count": 6,
   "id": "ee6965fe",
   "metadata": {},
   "outputs": [
    {
     "name": "stdout",
     "output_type": "stream",
     "text": [
      "['Milagros', 'Henry', 'Pablo', 'Oscar']\n"
     ]
    }
   ],
   "source": [
    "amigos = [\"Milagros\", 'Henry', \"Pablo\", \"Oscar\"]\n",
    "print(amigos)"
   ]
  },
  {
   "cell_type": "markdown",
   "id": "9dd9903e",
   "metadata": {},
   "source": [
    "**Indexación de listas**"
   ]
  },
  {
   "cell_type": "code",
   "execution_count": 8,
   "id": "a7b6899c",
   "metadata": {},
   "outputs": [
    {
     "data": {
      "text/plain": [
       "'Milagros'"
      ]
     },
     "execution_count": 8,
     "metadata": {},
     "output_type": "execute_result"
    }
   ],
   "source": [
    "amigos[0]"
   ]
  },
  {
   "cell_type": "code",
   "execution_count": 9,
   "id": "6cfbed90",
   "metadata": {},
   "outputs": [
    {
     "data": {
      "text/plain": [
       "'Henry'"
      ]
     },
     "execution_count": 9,
     "metadata": {},
     "output_type": "execute_result"
    }
   ],
   "source": [
    "amigos[1]"
   ]
  },
  {
   "cell_type": "code",
   "execution_count": 10,
   "id": "25d91717",
   "metadata": {},
   "outputs": [
    {
     "data": {
      "text/plain": [
       "'Oscar'"
      ]
     },
     "execution_count": 10,
     "metadata": {},
     "output_type": "execute_result"
    }
   ],
   "source": [
    "amigos[-1]"
   ]
  },
  {
   "cell_type": "markdown",
   "id": "f62a41b9",
   "metadata": {},
   "source": [
    "**Longitud de listas**"
   ]
  },
  {
   "cell_type": "code",
   "execution_count": 11,
   "id": "de933063",
   "metadata": {},
   "outputs": [
    {
     "data": {
      "text/plain": [
       "4"
      ]
     },
     "execution_count": 11,
     "metadata": {},
     "output_type": "execute_result"
    }
   ],
   "source": [
    "len(amigos)"
   ]
  },
  {
   "cell_type": "code",
   "execution_count": 12,
   "id": "31638a8e",
   "metadata": {},
   "outputs": [
    {
     "data": {
      "text/plain": [
       "7"
      ]
     },
     "execution_count": 12,
     "metadata": {},
     "output_type": "execute_result"
    }
   ],
   "source": [
    "len(tiempo)"
   ]
  },
  {
   "cell_type": "code",
   "execution_count": 13,
   "id": "8914f27b",
   "metadata": {},
   "outputs": [
    {
     "data": {
      "text/plain": [
       "9"
      ]
     },
     "execution_count": 13,
     "metadata": {},
     "output_type": "execute_result"
    }
   ],
   "source": [
    "len(num)"
   ]
  },
  {
   "cell_type": "markdown",
   "id": "6e0dc47e",
   "metadata": {},
   "source": [
    "**Concatenación de listas**"
   ]
  },
  {
   "cell_type": "code",
   "execution_count": 14,
   "id": "f168f047",
   "metadata": {},
   "outputs": [
    {
     "data": {
      "text/plain": [
       "[1, 2, 3, 4, 5, 6, 7, 8, 9, 'Milagros', 'Henry', 'Pablo', 'Oscar']"
      ]
     },
     "execution_count": 14,
     "metadata": {},
     "output_type": "execute_result"
    }
   ],
   "source": [
    "num + amigos"
   ]
  },
  {
   "cell_type": "code",
   "execution_count": 15,
   "id": "17e5a1fd",
   "metadata": {},
   "outputs": [
    {
     "data": {
      "text/plain": [
       "[1, 2, 3, 4, 5, 6, 7, 8, 9, 1, 2, 3, 4, 5, 6, 7, 8, 9]"
      ]
     },
     "execution_count": 15,
     "metadata": {},
     "output_type": "execute_result"
    }
   ],
   "source": [
    "num * 2"
   ]
  },
  {
   "cell_type": "code",
   "execution_count": 16,
   "id": "02670344",
   "metadata": {},
   "outputs": [
    {
     "data": {
      "text/plain": [
       "['Milagros', 'Henry', 'Pablo', 'Oscar', 'Milagros', 'Henry', 'Pablo', 'Oscar']"
      ]
     },
     "execution_count": 16,
     "metadata": {},
     "output_type": "execute_result"
    }
   ],
   "source": [
    "amigos * 2"
   ]
  },
  {
   "cell_type": "markdown",
   "id": "c2979c9f",
   "metadata": {},
   "source": [
    "**Recorte de Listas**"
   ]
  },
  {
   "cell_type": "code",
   "execution_count": 18,
   "id": "777ee6e0",
   "metadata": {},
   "outputs": [
    {
     "data": {
      "text/plain": [
       "[2010, 2015, 2018]"
      ]
     },
     "execution_count": 18,
     "metadata": {},
     "output_type": "execute_result"
    }
   ],
   "source": [
    "tiempo [2:5]"
   ]
  },
  {
   "cell_type": "markdown",
   "id": "61d9305d",
   "metadata": {},
   "source": [
    "**Recorrer una lista**"
   ]
  },
  {
   "cell_type": "code",
   "execution_count": 19,
   "id": "334b8677",
   "metadata": {},
   "outputs": [
    {
     "name": "stdout",
     "output_type": "stream",
     "text": [
      "['Milagros', 'Henry', 'Pablo', 'Oscar']\n"
     ]
    }
   ],
   "source": [
    "for i in [amigos]:\n",
    "    print(i)"
   ]
  },
  {
   "cell_type": "code",
   "execution_count": 20,
   "id": "9f331c3a",
   "metadata": {},
   "outputs": [
    {
     "name": "stdout",
     "output_type": "stream",
     "text": [
      "[100, 101, 102, 103, 104, 105, 106, 107, 108, 109, 110, 111, 112, 113, 114]\n"
     ]
    }
   ],
   "source": [
    "varios = list(range(100,115))\n",
    "print(varios)"
   ]
  },
  {
   "cell_type": "markdown",
   "id": "40b99ad6",
   "metadata": {},
   "source": [
    "**Adicionar elementos al final de la lista**"
   ]
  },
  {
   "cell_type": "code",
   "execution_count": 21,
   "id": "44b472cb",
   "metadata": {},
   "outputs": [
    {
     "data": {
      "text/plain": [
       "['Milagros', 'Henry', 'Pablo', 'Oscar', 'Mauricio']"
      ]
     },
     "execution_count": 21,
     "metadata": {},
     "output_type": "execute_result"
    }
   ],
   "source": [
    "amigos.append(\"Mauricio\")\n",
    "amigos"
   ]
  },
  {
   "cell_type": "markdown",
   "id": "24fa4fc4",
   "metadata": {},
   "source": [
    "**Modificar un elemento de la lista**"
   ]
  },
  {
   "cell_type": "code",
   "execution_count": 22,
   "id": "3668b7e3",
   "metadata": {},
   "outputs": [
    {
     "data": {
      "text/plain": [
       "['Milagros', 'Henry', 'Pablo', 'Oscar', 'Carlos']"
      ]
     },
     "execution_count": 22,
     "metadata": {},
     "output_type": "execute_result"
    }
   ],
   "source": [
    "amigos[-1] = \"Carlos\"\n",
    "amigos"
   ]
  },
  {
   "cell_type": "markdown",
   "id": "38de47fb",
   "metadata": {},
   "source": [
    "**Multiplicar cada elemento de la lista**"
   ]
  },
  {
   "cell_type": "code",
   "execution_count": 23,
   "id": "8ce2c329",
   "metadata": {},
   "outputs": [
    {
     "name": "stdout",
     "output_type": "stream",
     "text": [
      "[6, 6, 6, 6, 6, 6]\n",
      "[12, 12, 12, 12, 12, 12]\n"
     ]
    }
   ],
   "source": [
    "#creo la lista nueva\n",
    "seis = [6,6,6,6,6,6]\n",
    "print(seis)\n",
    "#recorro lista multiplicando x 2\n",
    "for i in range(0, len(seis)):\n",
    "    seis[i]*=2\n",
    "print(seis)"
   ]
  },
  {
   "cell_type": "code",
   "execution_count": 24,
   "id": "98b0df76",
   "metadata": {},
   "outputs": [
    {
     "name": "stdout",
     "output_type": "stream",
     "text": [
      "[12, 12, 12, 12, 12, 12, 13, 14, 15]\n",
      "[12, 12, 12, 12, 12, 12, 13, 14]\n",
      "[12, 12, 12, 12, 12, 12, 14]\n"
     ]
    },
    {
     "data": {
      "text/plain": [
       "[12, 12, 12, 12, 12, 12]"
      ]
     },
     "execution_count": 24,
     "metadata": {},
     "output_type": "execute_result"
    }
   ],
   "source": [
    "#Agrego elementos a la lista\n",
    "seis = seis + [13,14,15]\n",
    "print(seis)\n",
    "##Borrar un elemento de la lista\n",
    "del seis[-1]\n",
    "print(seis)\n",
    "\n",
    "del seis[6]\n",
    "print(seis)\n",
    "\n",
    "del seis[-1]\n",
    "seis"
   ]
  },
  {
   "cell_type": "markdown",
   "id": "18156b09",
   "metadata": {},
   "source": [
    "**Métodos del objeto Lista**"
   ]
  },
  {
   "cell_type": "code",
   "execution_count": 25,
   "id": "b825c54f",
   "metadata": {},
   "outputs": [
    {
     "data": {
      "text/plain": [
       "[12, 12, 12, 12, 12, 12, 6]"
      ]
     },
     "execution_count": 25,
     "metadata": {},
     "output_type": "execute_result"
    }
   ],
   "source": [
    "#Agrega un ítem al final de la lista\n",
    "seis.append(6)\n",
    "seis"
   ]
  },
  {
   "cell_type": "code",
   "execution_count": 26,
   "id": "a3cafe3b",
   "metadata": {},
   "outputs": [
    {
     "data": {
      "text/plain": [
       "[12, 12, 12, 12, 12, 12, 6, 5, 5, 3, 3, 1, 1]"
      ]
     },
     "execution_count": 26,
     "metadata": {},
     "output_type": "execute_result"
    }
   ],
   "source": [
    "#Extiende la lista agregándole todos los ítems de la lista dada\n",
    "seis.extend([5,5,3,3,1,1])\n",
    "seis"
   ]
  },
  {
   "cell_type": "code",
   "execution_count": 27,
   "id": "58981ced",
   "metadata": {},
   "outputs": [
    {
     "data": {
      "text/plain": [
       "[12, 0, 12, 12, 12, 12, 12, 6, 5, 5, 3, 3, 1, 1]"
      ]
     },
     "execution_count": 27,
     "metadata": {},
     "output_type": "execute_result"
    }
   ],
   "source": [
    "#Inserta un ítem en una posisción dada.\n",
    "seis.insert(1,0)\n",
    "seis"
   ]
  },
  {
   "cell_type": "code",
   "execution_count": 28,
   "id": "8ab5ff0f",
   "metadata": {},
   "outputs": [
    {
     "data": {
      "text/plain": [
       "[0, 12, 12, 12, 12, 12, 6, 5, 5, 3, 3, 1, 1]"
      ]
     },
     "execution_count": 28,
     "metadata": {},
     "output_type": "execute_result"
    }
   ],
   "source": [
    "#Quita el primer ítem de la lista cuyo valor sea x es igual a __del lista(i__)\n",
    "seis.remove(12)\n",
    "seis"
   ]
  },
  {
   "cell_type": "code",
   "execution_count": 29,
   "id": "85d05dd8",
   "metadata": {},
   "outputs": [
    {
     "data": {
      "text/plain": [
       "3"
      ]
     },
     "execution_count": 29,
     "metadata": {},
     "output_type": "execute_result"
    }
   ],
   "source": [
    "#Quita el ítem en la posición dada de la lista, y lo devuelve.\n",
    "seis.pop(9)"
   ]
  },
  {
   "cell_type": "code",
   "execution_count": 30,
   "id": "bab39478",
   "metadata": {},
   "outputs": [
    {
     "data": {
      "text/plain": [
       "[0, 12, 12, 12, 12, 12, 6, 5, 5, 3, 1, 1]"
      ]
     },
     "execution_count": 30,
     "metadata": {},
     "output_type": "execute_result"
    }
   ],
   "source": [
    "seis"
   ]
  },
  {
   "cell_type": "code",
   "execution_count": 31,
   "id": "bebd9cf1",
   "metadata": {},
   "outputs": [
    {
     "data": {
      "text/plain": [
       "[0, 12, 12, 12, 12, 12, 6, 5, 5, 3, 1, 1, 5, 5, 5]"
      ]
     },
     "execution_count": 31,
     "metadata": {},
     "output_type": "execute_result"
    }
   ],
   "source": [
    "cinco = seis + [5,5,5]\n",
    "cinco"
   ]
  },
  {
   "cell_type": "code",
   "execution_count": 32,
   "id": "11135768",
   "metadata": {},
   "outputs": [
    {
     "data": {
      "text/plain": [
       "[]"
      ]
     },
     "execution_count": 32,
     "metadata": {},
     "output_type": "execute_result"
    }
   ],
   "source": [
    "#Quita todos los elementos de la lista.\n",
    "cinco.clear()\n",
    "cinco"
   ]
  },
  {
   "cell_type": "code",
   "execution_count": 33,
   "id": "3306bbe8",
   "metadata": {},
   "outputs": [
    {
     "data": {
      "text/plain": [
       "[0, 12, 12, 12, 12, 12, 6, 5, 5, 3, 1, 1]"
      ]
     },
     "execution_count": 33,
     "metadata": {},
     "output_type": "execute_result"
    }
   ],
   "source": [
    "seis"
   ]
  },
  {
   "cell_type": "code",
   "execution_count": 34,
   "id": "25a6d730",
   "metadata": {},
   "outputs": [
    {
     "data": {
      "text/plain": [
       "9"
      ]
     },
     "execution_count": 34,
     "metadata": {},
     "output_type": "execute_result"
    }
   ],
   "source": [
    "#Devuelve el índice en la lista del primer ítem cuyo valor sea x.\n",
    "seis.index(3)"
   ]
  },
  {
   "cell_type": "code",
   "execution_count": 35,
   "id": "1a682aff",
   "metadata": {},
   "outputs": [
    {
     "data": {
      "text/plain": [
       "5"
      ]
     },
     "execution_count": 35,
     "metadata": {},
     "output_type": "execute_result"
    }
   ],
   "source": [
    "#Devuelve el número de veces que x aparece en la lista.\n",
    "seis.count(12)"
   ]
  },
  {
   "cell_type": "markdown",
   "id": "441217af",
   "metadata": {},
   "source": [
    "![](https://sindicatoaudiovisual.com/wp-content/uploads/2016/05/linea-roja-titulo.png)"
   ]
  },
  {
   "cell_type": "markdown",
   "id": "e5d54e97",
   "metadata": {},
   "source": [
    "<center> <h1>EJEMPLOS</h1> </center>"
   ]
  },
  {
   "cell_type": "markdown",
   "id": "d65a19f1",
   "metadata": {},
   "source": [
    "![](https://sindicatoaudiovisual.com/wp-content/uploads/2016/05/linea-roja-titulo.png)"
   ]
  },
  {
   "cell_type": "markdown",
   "id": "115d0008",
   "metadata": {},
   "source": [
    "***Ejemplo 1:*** Crear una lista con las letras de una palabra:"
   ]
  },
  {
   "cell_type": "code",
   "execution_count": 36,
   "id": "d43bc6ee",
   "metadata": {},
   "outputs": [
    {
     "name": "stdout",
     "output_type": "stream",
     "text": [
      "Ingrese palabra: misti\n",
      "['m', 'i', 's', 't', 'i']\n"
     ]
    }
   ],
   "source": [
    "#Método tradicional\n",
    "palabra = input(\"Ingrese palabra: \")\n",
    "lista = []\n",
    "for letra in palabra:\n",
    "    lista.append(letra)\n",
    "print(lista)"
   ]
  },
  {
   "cell_type": "code",
   "execution_count": 37,
   "id": "2059c989",
   "metadata": {},
   "outputs": [
    {
     "name": "stdout",
     "output_type": "stream",
     "text": [
      "Ingrese palabra: chachani\n",
      "['c', 'h', 'a', 'c', 'h', 'a', 'n', 'i']\n"
     ]
    }
   ],
   "source": [
    "# Método con comprensión de listas\n",
    "palabra = input(\"Ingrese palabra: \")\n",
    "lista = [letra for letra in palabra]\n",
    "print(lista)"
   ]
  },
  {
   "cell_type": "markdown",
   "id": "f7bff43e",
   "metadata": {},
   "source": [
    "***Ejemplo 2:*** Crear una lista con las potencias de 2 de los primeros 10 números:"
   ]
  },
  {
   "cell_type": "code",
   "execution_count": 38,
   "id": "541e7324",
   "metadata": {},
   "outputs": [
    {
     "name": "stdout",
     "output_type": "stream",
     "text": [
      "[0, 1, 4, 9, 16, 25, 36, 49, 64, 81, 100]\n"
     ]
    }
   ],
   "source": [
    "#Método tradicional\n",
    "lista = []\n",
    "for numero in range(0,11):\n",
    "    lista.append(numero**2)\n",
    "print(lista)"
   ]
  },
  {
   "cell_type": "code",
   "execution_count": 39,
   "id": "00621067",
   "metadata": {},
   "outputs": [
    {
     "name": "stdout",
     "output_type": "stream",
     "text": [
      "[0, 1, 4, 9, 16, 25, 36, 49, 64, 81, 100]\n"
     ]
    }
   ],
   "source": [
    "# Método con comprensión de listas\n",
    "lista = [numero**2 for numero in range(0,11)]\n",
    "print(lista)"
   ]
  },
  {
   "cell_type": "code",
   "execution_count": 40,
   "id": "61b945f6",
   "metadata": {},
   "outputs": [
    {
     "name": "stdout",
     "output_type": "stream",
     "text": [
      "[0, 1, 4, 9, 16, 25, 36, 49, 64, 81, 100]\n"
     ]
    }
   ],
   "source": [
    "# Con comprension de listas\n",
    "# usando funciones \"math\"\n",
    "import math\n",
    "lista = [int(math.pow(numero,2)) for numero in range(0,11)]\n",
    "print(lista)"
   ]
  },
  {
   "cell_type": "code",
   "execution_count": 43,
   "id": "fc7df084",
   "metadata": {},
   "outputs": [
    {
     "data": {
      "text/plain": [
       "[0, 1, 4, 9, 16, 25, 36, 49, 64, 81, 100]"
      ]
     },
     "execution_count": 43,
     "metadata": {},
     "output_type": "execute_result"
    }
   ],
   "source": [
    "# Lista sin creación de variables: Creando lista con comando map y la función lambda. (averiguar como funcionan)\n",
    "cuadra2 = list(map(lambda x: x**2, range(11)))\n",
    "cuadra2"
   ]
  },
  {
   "cell_type": "markdown",
   "id": "e3a32323",
   "metadata": {},
   "source": [
    "---------"
   ]
  },
  {
   "attachments": {
    "separadorfinal.png": {
     "image/png": "[encoded data removed]"
    }
   },
   "cell_type": "markdown",
   "id": "be558d91",
   "metadata": {},
   "source": [
    "# <center><h1><font color='orange'>**FIN**</font></h1></center>\n",
    "![separadorfinal.png](attachment:separadorfinal.png)"
   ]
  }
 ],
 "metadata": {
  "kernelspec": {
   "display_name": "Python 3 (ipykernel)",
   "language": "python",
   "name": "python3"
  },
  "language_info": {
   "codemirror_mode": {
    "name": "ipython",
    "version": 3
   },
   "file_extension": ".py",
   "mimetype": "text/x-python",
   "name": "python",
   "nbconvert_exporter": "python",
   "pygments_lexer": "ipython3",
   "version": "3.8.13"
  }
 },
 "nbformat": 4,
 "nbformat_minor": 5
}
